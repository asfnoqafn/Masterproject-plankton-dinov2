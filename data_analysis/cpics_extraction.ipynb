{
 "cells": [
  {
   "cell_type": "code",
   "execution_count": 2,
   "metadata": {},
   "outputs": [],
   "source": [
    "# counting the number of image files in a folder\n",
    "\n",
    "from pathlib import Path\n",
    "\n",
    "def count_images_in_folder(folder_path):\n",
    "    \"\"\"Count the number of .jpg and .png image files in a folder.\"\"\"\n",
    "    \n",
    "    # Initialize the counter for image files\n",
    "    image_count = 0\n",
    "\n",
    "    # Convert the folder_path to a Path object\n",
    "    folder = Path(folder_path)\n",
    "\n",
    "    # Check if the folder exists\n",
    "    if folder.exists() and folder.is_dir():\n",
    "        # Count .jpg and .png files\n",
    "        for img_file in folder.rglob(\"*.jpg\"):\n",
    "            image_count += 1\n",
    "        for img_file in folder.rglob(\"*.png\"):\n",
    "            image_count += 1\n",
    "\n",
    "        print(f\"Number of image files in {folder}: {image_count}\")\n",
    "    else:\n",
    "        print(f\"Invalid folder path: {folder_path}\")\n",
    "    \n",
    "    return image_count\n",
    "\n",
    "\n"
   ]
  },
  {
   "cell_type": "code",
   "execution_count": 5,
   "metadata": {},
   "outputs": [
    {
     "name": "stdout",
     "output_type": "stream",
     "text": [
      "Number of image files in /home/hk-project-p0021769/hgf_grc7525/data/with_labels/CPICS_Validated: 1517303\n"
     ]
    },
    {
     "data": {
      "text/plain": [
       "1517303"
      ]
     },
     "execution_count": 5,
     "metadata": {},
     "output_type": "execute_result"
    }
   ],
   "source": [
    "count_images_in_folder(\"/home/hk-project-p0021769/hgf_grc7525/data/with_labels/CPICS_Validated\")"
   ]
  },
  {
   "cell_type": "markdown",
   "metadata": {},
   "source": [
    "# getting all the images in a folder"
   ]
  },
  {
   "cell_type": "code",
   "execution_count": null,
   "metadata": {},
   "outputs": [],
   "source": [
    "# adding the image files to a set\n",
    "def get_image_files(directory):\n",
    "    \"\"\"Get all image files (.jpg, .png) in a directory and return their count.\"\"\"\n",
    "    \n",
    "    # Initialize a set to store image files\n",
    "    image_files = set()\n",
    "\n",
    "    # Look for .jpg files\n",
    "    for file in directory.rglob(\"*.jpg\"):\n",
    "        image_files.add(file.name)  \n",
    "\n",
    "    # Look for .png files\n",
    "    for file in directory.rglob(\"*.png\"):\n",
    "        image_files.add(file.name) \n",
    "\n",
    "    return image_files\n"
   ]
  },
  {
   "cell_type": "markdown",
   "metadata": {},
   "source": [
    "# checking if there is any overlap into Lraw and other labelled folder in CPICS"
   ]
  },
  {
   "cell_type": "code",
   "execution_count": 8,
   "metadata": {},
   "outputs": [
    {
     "name": "stdout",
     "output_type": "stream",
     "text": [
      "Processing directory: 20141008-14\n",
      "Found LRaw folder in 20141008-14\n",
      "No common images between LRaw and any other subfolders in 20141008-14.\n",
      "Processing directory: 20151008-31\n",
      "Found LRaw folder in 20151008-31\n",
      "No common images between LRaw and any other subfolders in 20151008-31.\n",
      "Processing directory: 20141001-07\n",
      "Found LRaw folder in 20141001-07\n",
      "No common images between LRaw and any other subfolders in 20141001-07.\n",
      "Processing directory: 20151101-12\n",
      "Found LRaw folder in 20151101-12\n",
      "No common images between LRaw and any other subfolders in 20151101-12.\n",
      "Processing directory: 20150101-08\n",
      "Found LRaw folder in 20150101-08\n",
      "No common images between LRaw and any other subfolders in 20150101-08.\n",
      "Processing directory: 20141101-30\n",
      "Found LRaw folder in 20141101-30\n",
      "No common images between LRaw and any other subfolders in 20141101-30.\n",
      "Processing directory: 20141015-31\n",
      "Found LRaw folder in 20141015-31\n",
      "No common images between LRaw and any other subfolders in 20141015-31.\n",
      "Processing directory: 20151113-30\n",
      "Found LRaw folder in 20151113-30\n",
      "No common images between LRaw and any other subfolders in 20151113-30.\n",
      "Processing directory: 20141201-31\n",
      "Found LRaw folder in 20141201-31\n",
      "No common images between LRaw and any other subfolders in 20141201-31.\n",
      "Processing directory: 20151201-31\n",
      "No LRaw folder found in 20151201-31.\n"
     ]
    }
   ],
   "source": [
    "# with flag to check if there are common images between LRaw and other folders\n",
    "from pathlib import Path\n",
    "\n",
    "def compare_lraw_with_others(base_directory):\n",
    "    \"\"\"Compare images in the LRaw folder with images in other folders.\"\"\"\n",
    "    \n",
    "    # Loop through all subfolders in the base directory\n",
    "    base_path = Path(base_directory)\n",
    "    for dataset_dir in base_path.iterdir():\n",
    "        if dataset_dir.is_dir():\n",
    "            print(f\"Processing directory: {dataset_dir.name}\")\n",
    "            \n",
    "            lraw_dir = dataset_dir / \"LRaw\"\n",
    "            if lraw_dir.exists() and lraw_dir.is_dir():\n",
    "                print(f\"Found LRaw folder in {dataset_dir.name}\")\n",
    "\n",
    "                # Get images in the LRaw folder\n",
    "                lraw_images = get_image_files(lraw_dir)\n",
    "                \n",
    "                # Flag to check if there were common images found with any subfolder\n",
    "                any_common_found = False\n",
    "\n",
    "                # Get images in other labeled folders\n",
    "                for subfolder in dataset_dir.iterdir():\n",
    "                    if subfolder.is_dir() and subfolder.name != \"LRaw\":\n",
    "                        #print(f\"Processing folder: {subfolder.name}\")\n",
    "                        \n",
    "                        # Get images in the current folder\n",
    "                        folder_images = get_image_files(subfolder)\n",
    "                        #print(f\"Number of images in {subfolder.name}: {len(folder_images)}\")\n",
    "                        \n",
    "                        # Find common images between LRaw and the current folder\n",
    "                        common_images = lraw_images & folder_images\n",
    "                        \n",
    "                        if common_images:\n",
    "                            any_common_found = True\n",
    "                            print(f\"Found {len(common_images)} common images between LRaw and {subfolder.name}:\")\n",
    "                            for img in sorted(common_images):\n",
    "                                print(f\"  {img}\")\n",
    "                \n",
    "                # If no common images were found with any subfolder\n",
    "                if not any_common_found:\n",
    "                    print(f\"No common images between LRaw and any other subfolders in {dataset_dir.name}.\")\n",
    "            else:\n",
    "                print(f\"No LRaw folder found in {dataset_dir.name}.\")\n",
    "                \n",
    "# Test the function\n",
    "base_directory = \"/home/hk-project-p0021769/hgf_grc7525/data/with_labels/CPICS_Validated\"  \n",
    "#base_directory = '/home/hk-project-p0021769/hgf_diz2155/repos/Masterproject-plankton-dinov2/dinov2/data/datasets/demo_data_for_test'\n",
    "compare_lraw_with_others(base_directory)\n"
   ]
  },
  {
   "cell_type": "markdown",
   "metadata": {},
   "source": [
    "### COMMENT : They dont have any overlapping images in CPICS"
   ]
  }
 ],
 "metadata": {
  "kernelspec": {
   "display_name": "Python 3",
   "language": "python",
   "name": "python3"
  },
  "language_info": {
   "codemirror_mode": {
    "name": "ipython",
    "version": 3
   },
   "file_extension": ".py",
   "mimetype": "text/x-python",
   "name": "python",
   "nbconvert_exporter": "python",
   "pygments_lexer": "ipython3",
   "version": "3.11.2"
  }
 },
 "nbformat": 4,
 "nbformat_minor": 2
}
