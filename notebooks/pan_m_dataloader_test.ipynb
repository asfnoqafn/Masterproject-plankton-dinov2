{
 "cells": [
  {
   "cell_type": "code",
   "execution_count": 1,
   "metadata": {},
   "outputs": [],
   "source": [
    "import sys\n",
    "\n",
    "sys.path.insert(0, \"..\")\n",
    "\n",
    "import torch \n",
    "from functools import partial\n",
    "import matplotlib.pyplot as plt\n",
    "\n",
    "from dinov2.data import SamplerType, make_data_loader, make_dataset\n",
    "from dinov2.data import collate_data_and_cast, DataAugmentationDINO, MaskingGenerator\n",
    "\n"
   ]
  },
  {
   "cell_type": "code",
   "execution_count": 3,
   "metadata": {},
   "outputs": [
    {
     "name": "stdout",
     "output_type": "stream",
     "text": [
      "Dataset kwargs {'split': <_Split.ALL: 'all'>, 'root': '/fast/AG_Kainmueller/data/pan_m_lmdb_crops/', 'extra': 'mibi*'}\n",
      "extra_path /fast/AG_Kainmueller/data/pan_m_lmdb_crops/*\n",
      "Datasets imgs file list:  ['/fast/AG_Kainmueller/data/pan_m_lmdb_crops/codex_colon/0-TRAIN_images', '/fast/AG_Kainmueller/data/pan_m_lmdb_crops/mibi_breast/0-TRAIN_images', '/fast/AG_Kainmueller/data/pan_m_lmdb_crops/mibi_decidua/0-TRAIN_images', '/fast/AG_Kainmueller/data/pan_m_lmdb_crops/vectra_colon/0-TRAIN_images', '/fast/AG_Kainmueller/data/pan_m_lmdb_crops/vectra_pancreas/0-TRAIN_images']\n",
      "Datasets labels file list:  ['/fast/AG_Kainmueller/data/pan_m_lmdb_crops/codex_colon/0-TRAIN_labels', '/fast/AG_Kainmueller/data/pan_m_lmdb_crops/mibi_breast/0-TRAIN_labels', '/fast/AG_Kainmueller/data/pan_m_lmdb_crops/mibi_decidua/0-TRAIN_labels', '/fast/AG_Kainmueller/data/pan_m_lmdb_crops/vectra_colon/0-TRAIN_labels', '/fast/AG_Kainmueller/data/pan_m_lmdb_crops/vectra_pancreas/0-TRAIN_labels']\n",
      "Datasets metadata file list:  ['/fast/AG_Kainmueller/data/pan_m_lmdb_crops/codex_colon/0-TRAIN_metadata', '/fast/AG_Kainmueller/data/pan_m_lmdb_crops/mibi_breast/0-TRAIN_metadata', '/fast/AG_Kainmueller/data/pan_m_lmdb_crops/mibi_decidua/0-TRAIN_metadata', '/fast/AG_Kainmueller/data/pan_m_lmdb_crops/vectra_colon/0-TRAIN_metadata', '/fast/AG_Kainmueller/data/pan_m_lmdb_crops/vectra_pancreas/0-TRAIN_metadata']\n",
      "/fast/AG_Kainmueller/data/pan_m_lmdb_crops/codex_colon/0-TRAIN_images lmdb_env_imgs.stat() {'psize': 4096, 'depth': 3, 'branch_pages': 27, 'leaf_pages': 1571, 'overflow_pages': 40076, 'entries': 29450}\n",
      "/fast/AG_Kainmueller/data/pan_m_lmdb_crops/mibi_breast/0-TRAIN_images lmdb_env_imgs.stat() {'psize': 4096, 'depth': 4, 'branch_pages': 1917, 'leaf_pages': 120222, 'overflow_pages': 294202, 'entries': 465075}\n",
      "/fast/AG_Kainmueller/data/pan_m_lmdb_crops/mibi_decidua/0-TRAIN_images lmdb_env_imgs.stat() {'psize': 4096, 'depth': 3, 'branch_pages': 7, 'leaf_pages': 568, 'overflow_pages': 76045, 'entries': 34504}\n",
      "/fast/AG_Kainmueller/data/pan_m_lmdb_crops/vectra_colon/0-TRAIN_images lmdb_env_imgs.stat() {'psize': 4096, 'depth': 3, 'branch_pages': 12, 'leaf_pages': 1119, 'overflow_pages': 67743, 'entries': 19614}\n",
      "/fast/AG_Kainmueller/data/pan_m_lmdb_crops/vectra_pancreas/0-TRAIN_images lmdb_env_imgs.stat() {'psize': 4096, 'depth': 3, 'branch_pages': 10, 'leaf_pages': 713, 'overflow_pages': 64559, 'entries': 18102}\n",
      "#samples: 18810\n"
     ]
    }
   ],
   "source": [
    "train_ds_path = \"PanMDataset:split=ALL:root=/fast/AG_Kainmueller/data/pan_m_lmdb_crops/:extra=mibi*\"\n",
    "\n",
    "img_size = 224\n",
    "patch_size = 14\n",
    "n_tokens = (img_size // patch_size) ** 2\n",
    "inputs_dtype = torch.half\n",
    "do_on_gpu = False\n",
    "do_data_aug = False\n",
    "\n",
    "mask_generator = MaskingGenerator(\n",
    "    input_size=(img_size // patch_size, img_size // patch_size),\n",
    "    max_num_patches=0.5 * img_size // patch_size * img_size // patch_size,\n",
    ")\n",
    "\n",
    "data_transform_cpu = DataAugmentationDINO(\n",
    "    (0.32, 1.0),\n",
    "    (0.05, 0.32),\n",
    "    8,\n",
    "    global_crops_size=224,\n",
    "    local_crops_size=96,\n",
    "    use_kornia=True,\n",
    "    do_multi_channel=True,\n",
    ")\n",
    "\n",
    "# setup data loader\n",
    "dataset = make_dataset(\n",
    "    dataset_str=train_ds_path,\n",
    "    transform=data_transform_cpu,\n",
    "    target_transform=lambda _: (),\n",
    ")\n",
    "\n",
    "print(f\"#samples: {len(dataset)}\")\n"
   ]
  },
  {
   "cell_type": "code",
   "execution_count": 4,
   "metadata": {},
   "outputs": [],
   "source": [
    "sampler_type = SamplerType.SHARDED_INFINITE\n",
    "\n",
    "collate_fn_cpu = partial(\n",
    "    collate_data_and_cast,\n",
    "    mask_ratio_tuple=(0.1, 0.5),\n",
    "    mask_probability=0.5,\n",
    "    n_tokens=n_tokens,\n",
    "    mask_generator=mask_generator,\n",
    "    dtype=inputs_dtype,\n",
    "    do_free_shapes=None,\n",
    "    use_ch_patch_embed=True,\n",
    "    use_variable_channels=True,\n",
    ")\n",
    "\n",
    "data_loader = make_data_loader(\n",
    "    dataset=dataset,\n",
    "    batch_size=4,\n",
    "    num_workers=8,\n",
    "    shuffle=True,\n",
    "    seed=0,\n",
    "    sampler_type=sampler_type,\n",
    "    sampler_advance=0,  # TODO(qas): fix this -- start_iter * cfg.train.batch_size_per_gpu,\n",
    "    drop_last=True,\n",
    "    collate_fn=collate_fn_cpu,\n",
    ")"
   ]
  },
  {
   "cell_type": "code",
   "execution_count": 5,
   "metadata": {},
   "outputs": [
    {
     "name": "stdout",
     "output_type": "stream",
     "text": [
      "eeeeeeeeeeeeeeeeee   mibi_breast_0868_p4_ch39mibi_breast_0760_p5_ch39eeeeeemibi_breast_0437_p5_ch39eeeeee   eeeeee /fast/AG_Kainmueller/data/pan_m_lmdb_crops/mibi_breast/0-TRAIN_images /fast/AG_Kainmueller/data/pan_m_lmdb_crops/mibi_breast/0-TRAIN_images/fast/AG_Kainmueller/data/pan_m_lmdb_crops/mibi_breast/0-TRAIN_imagesmibi_breast_0323_p6_ch39mibi_breast_0244_p0_ch39 eeeeee     self.curr_in_chans Noneself.curr_in_chans Nonemibi_breast_0149_p2_ch39/fast/AG_Kainmueller/data/pan_m_lmdb_crops/mibi_breast/0-TRAIN_images self.curr_in_chans None\n",
      "\n",
      " /fast/AG_Kainmueller/data/pan_m_lmdb_crops/mibi_breast/0-TRAIN_imagesmibi_breast_0852_p6_ch39\n",
      " /fast/AG_Kainmueller/data/pan_m_lmdb_crops/mibi_breast/0-TRAIN_images self.curr_in_chans None  /fast/AG_Kainmueller/data/pan_m_lmdb_crops/mibi_breast/0-TRAIN_imagesself.curr_in_chans Noneeeeeee self.curr_in_chans None\n",
      "self.curr_in_chans None \n",
      "\n",
      "mibi_breast_0294_p1_ch39\n",
      " /fast/AG_Kainmueller/data/pan_m_lmdb_crops/mibi_breast/0-TRAIN_images self.curr_in_chans None\n",
      "eeeeee eeeeee mibi_breast_0610_p9_ch39mibi_breast_1014_p0_ch39 /fast/AG_Kainmueller/data/pan_m_lmdb_crops/mibi_breast/0-TRAIN_images  eeeeee/fast/AG_Kainmueller/data/pan_m_lmdb_crops/mibi_breast/0-TRAIN_images self.curr_in_chans Noneeeeeee \n",
      "mibi_breast_1021_p2_ch39mibi_breast_1098_p2_ch39 /fast/AG_Kainmueller/data/pan_m_lmdb_crops/mibi_breast/0-TRAIN_images   self.curr_in_chans None/fast/AG_Kainmueller/data/pan_m_lmdb_crops/mibi_breast/0-TRAIN_imageseeeeee\n",
      "self.curr_in_chans None  \n",
      "self.curr_in_chans Nonecodex_colon_0013_p14_ch50\n",
      " /fast/AG_Kainmueller/data/pan_m_lmdb_crops/codex_colon/0-TRAIN_images self.curr_in_chans None\n",
      "eeeeee mibi_breast_0272_p3_ch39 /fast/AG_Kainmueller/data/pan_m_lmdb_crops/mibi_breast/0-TRAIN_images self.curr_in_chans None\n",
      "eeeeee vectra_pancreas_0365_p4_ch7 /fast/AG_Kainmueller/data/pan_m_lmdb_crops/vectra_pancreas/0-TRAIN_images self.curr_in_chans None\n",
      "eeeeee mibi_breast_0292_p2_ch39 /fast/AG_Kainmueller/data/pan_m_lmdb_crops/mibi_breast/0-TRAIN_images self.curr_in_chans None\n",
      "eeeeee mibi_breast_1207_p0_ch39 /fast/AG_Kainmueller/data/pan_m_lmdb_crops/mibi_breast/0-TRAIN_images self.curr_in_chans None\n",
      "eeeeee mibi_breast_0903_p6_ch39 /fast/AG_Kainmueller/data/pan_m_lmdb_crops/mibi_breast/0-TRAIN_images self.curr_in_chans None\n",
      "eeeeee mibi_breast_0522_p0_ch39 /fast/AG_Kainmueller/data/pan_m_lmdb_crops/mibi_breast/0-TRAIN_images self.curr_in_chans None\n",
      "eeeeee mibi_breast_0403_p0_ch39 /fast/AG_Kainmueller/data/pan_m_lmdb_crops/mibi_breast/0-TRAIN_images self.curr_in_chans None\n",
      "eeeeee vectra_colon_0449_p5_ch7 /fast/AG_Kainmueller/data/pan_m_lmdb_crops/vectra_colon/0-TRAIN_images self.curr_in_chans None\n",
      "eeeeee mibi_breast_0273_p1_ch39 /fast/AG_Kainmueller/data/pan_m_lmdb_crops/mibi_breast/0-TRAIN_images self.curr_in_chans None\n",
      "eeeeee vectra_pancreas_0217_p0_ch7 /fast/AG_Kainmueller/data/pan_m_lmdb_crops/vectra_pancreas/0-TRAIN_images self.curr_in_chans None\n",
      "eeeeee mibi_breast_1197_p4_ch39 /fast/AG_Kainmueller/data/pan_m_lmdb_crops/mibi_breast/0-TRAIN_images self.curr_in_chans None\n",
      "eeeeee mibi_breast_1093_p4_ch39 /fast/AG_Kainmueller/data/pan_m_lmdb_crops/mibi_breast/0-TRAIN_images self.curr_in_chans None\n",
      "eeeeee vectra_pancreas_0158_p3_ch7 /fast/AG_Kainmueller/data/pan_m_lmdb_crops/vectra_pancreas/0-TRAIN_images self.curr_in_chans None\n",
      "eeeeee vectra_pancreas_0250_p5_ch7 /fast/AG_Kainmueller/data/pan_m_lmdb_crops/vectra_pancreas/0-TRAIN_images self.curr_in_chans None\n",
      "eeeeee vectra_colon_0239_p2_ch7 eeeeee/fast/AG_Kainmueller/data/pan_m_lmdb_crops/vectra_colon/0-TRAIN_images  mibi_breast_0046_p3_ch39self.curr_in_chans None \n",
      "/fast/AG_Kainmueller/data/pan_m_lmdb_crops/mibi_breast/0-TRAIN_images self.curr_in_chans None\n",
      "eeeeee mibi_breast_0902_p8_ch39 /fast/AG_Kainmueller/data/pan_m_lmdb_crops/mibi_breast/0-TRAIN_images self.curr_in_chans None\n",
      "eeeeee mibi_decidua_0100_p2_ch38 /fast/AG_Kainmueller/data/pan_m_lmdb_crops/mibi_decidua/0-TRAIN_images self.curr_in_chans None\n",
      "eeeeee mibi_breast_0838_p1_ch39 /fast/AG_Kainmueller/data/pan_m_lmdb_crops/mibi_breast/0-TRAIN_images self.curr_in_chans None\n",
      "eeeeee eeeeeeeeeeeevectra_colon_0211_p3_ch7  mibi_decidua_0024_p1_ch38vectra_colon_0291_p4_ch7   /fast/AG_Kainmueller/data/pan_m_lmdb_crops/vectra_colon/0-TRAIN_images/fast/AG_Kainmueller/data/pan_m_lmdb_crops/mibi_decidua/0-TRAIN_images/fast/AG_Kainmueller/data/pan_m_lmdb_crops/vectra_colon/0-TRAIN_images  self.curr_in_chans Noneself.curr_in_chans None self.curr_in_chans None\n",
      "\n",
      "\n",
      "eeeeee codex_colon_0026_p8_ch50 /fast/AG_Kainmueller/data/pan_m_lmdb_crops/codex_colon/0-TRAIN_images self.curr_in_chans None\n",
      "eeeeee mibi_breast_0830_p7_ch39 /fast/AG_Kainmueller/data/pan_m_lmdb_crops/mibi_breast/0-TRAIN_images self.curr_in_chans Noneeeeeee \n",
      "mibi_breast_0539_p2_ch39 /fast/AG_Kainmueller/data/pan_m_lmdb_crops/mibi_breast/0-TRAIN_images self.curr_in_chans None\n",
      "eeeeee eeeeeevectra_pancreas_0132_p1_ch7 mibi_breast_0683_p0_ch39 /fast/AG_Kainmueller/data/pan_m_lmdb_crops/mibi_breast/0-TRAIN_images eeeeee/fast/AG_Kainmueller/data/pan_m_lmdb_crops/vectra_pancreas/0-TRAIN_images mibi_breast_0979_p8_ch39   self.curr_in_chans None/fast/AG_Kainmueller/data/pan_m_lmdb_crops/mibi_breast/0-TRAIN_images\n",
      " self.curr_in_chans Noneeeeeee \n",
      "mibi_breast_0539_p3_ch39self.curr_in_chans None \n",
      "/fast/AG_Kainmueller/data/pan_m_lmdb_crops/mibi_breast/0-TRAIN_images self.curr_in_chans None\n",
      "eeeeee mibi_breast_0610_p6_ch39 /fast/AG_Kainmueller/data/pan_m_lmdb_crops/mibi_breast/0-TRAIN_images self.curr_in_chans None\n",
      "eeeeee vectra_pancreas_0252_p4_ch7 /fast/AG_Kainmueller/data/pan_m_lmdb_crops/vectra_pancreas/0-TRAIN_images"
     ]
    },
    {
     "name": "stderr",
     "output_type": "stream",
     "text": [
      "Exception ignored in sys.unraisablehook"
     ]
    },
    {
     "name": "stdout",
     "output_type": "stream",
     "text": [
      " self.curr_in_chans Noneeeeeee\n",
      " vectra_colon_0031_p5_ch7 /fast/AG_Kainmueller/data/pan_m_lmdb_crops/vectra_colon/0-TRAIN_images"
     ]
    },
    {
     "name": "stderr",
     "output_type": "stream",
     "text": [
      ": "
     ]
    },
    {
     "name": "stdout",
     "output_type": "stream",
     "text": [
      " self.curr_in_chans None"
     ]
    },
    {
     "name": "stderr",
     "output_type": "stream",
     "text": [
      "<built-in function unraisablehook>"
     ]
    },
    {
     "name": "stdout",
     "output_type": "stream",
     "text": [
      "\n"
     ]
    },
    {
     "name": "stderr",
     "output_type": "stream",
     "text": [
      "\n",
      "Traceback (most recent call last):\n"
     ]
    },
    {
     "name": "stdout",
     "output_type": "stream",
     "text": [
      "eeeeee "
     ]
    },
    {
     "name": "stderr",
     "output_type": "stream",
     "text": [
      "  File \"/fast/home/j/jluesch/micromamba/envs/dinov2_2/lib/python3.10/site-packages/ipykernel/iostream.py\", line 660, in write\n"
     ]
    },
    {
     "name": "stdout",
     "output_type": "stream",
     "text": [
      "mibi_breast_0625_p2_ch39 /fast/AG_Kainmueller/data/pan_m_lmdb_crops/mibi_breast/0-TRAIN_images self.curr_in_chans None\n"
     ]
    },
    {
     "name": "stderr",
     "output_type": "stream",
     "text": [
      "    self.pub_thread.schedule(self._flush)\n",
      "  File \"/fast/home/j/jluesch/micromamba/envs/dinov2_2/lib/python3.10/site-packages/ipykernel/iostream.py\", line 268, in schedule\n",
      "    f()\n",
      "  File \"/fast/home/j/jluesch/micromamba/envs/dinov2_2/lib/python3.10/site-packages/ipykernel/iostream.py\", line 618, in _flush\n",
      "    Exception ignored in sys.unraisablehook: self.session.send(<built-in function unraisablehook>\n",
      "  File \"/fast/home/j/jluesch/micromamba/envs/dinov2_2/lib/python3.10/site-packages/jupyter_client/session.py\", line 863, in send\n",
      "\n",
      "Traceback (most recent call last):\n",
      "  File \"/fast/home/j/jluesch/micromamba/envs/dinov2_2/lib/python3.10/site-packages/ipykernel/iostream.py\", line 660, in write\n",
      "    self.pub_thread.schedule(self._flush)\n",
      "  File \"/fast/home/j/jluesch/micromamba/envs/dinov2_2/lib/python3.10/site-packages/ipykernel/iostream.py\", line 268, in schedule\n",
      "    f()\n",
      "  File \"/fast/home/j/jluesch/micromamba/envs/dinov2_2/lib/python3.10/site-packages/ipykernel/iostream.py\", line 618, in _flush\n"
     ]
    },
    {
     "name": "stdout",
     "output_type": "stream",
     "text": [
      "eeeeee"
     ]
    },
    {
     "name": "stderr",
     "output_type": "stream",
     "text": [
      "        "
     ]
    },
    {
     "name": "stdout",
     "output_type": "stream",
     "text": [
      " "
     ]
    },
    {
     "name": "stderr",
     "output_type": "stream",
     "text": [
      "stream.send_multipart(to_send, copy=copy)self.session.send(\n",
      "  File \"/fast/home/j/jluesch/micromamba/envs/dinov2_2/lib/python3.10/site-packages/ipykernel/iostream.py\", line 275, in send_multipart\n",
      "    "
     ]
    },
    {
     "name": "stdout",
     "output_type": "stream",
     "text": [
      "mibi_breast_0057_p7_ch39 /fast/AG_Kainmueller/data/pan_m_lmdb_crops/mibi_breast/0-TRAIN_imageseeeeee"
     ]
    },
    {
     "name": "stderr",
     "output_type": "stream",
     "text": [
      "\n"
     ]
    },
    {
     "name": "stdout",
     "output_type": "stream",
     "text": [
      " "
     ]
    },
    {
     "name": "stderr",
     "output_type": "stream",
     "text": [
      "self.schedule(lambda: self._really_send(*args, **kwargs))\n"
     ]
    },
    {
     "name": "stdout",
     "output_type": "stream",
     "text": [
      "self.curr_in_chans None \n"
     ]
    },
    {
     "name": "stderr",
     "output_type": "stream",
     "text": [
      "  File \"/fast/home/j/jluesch/micromamba/envs/dinov2_2/lib/python3.10/site-packages/ipykernel/iostream.py\", line 268, in schedule\n"
     ]
    },
    {
     "name": "stdout",
     "output_type": "stream",
     "text": [
      "vectra_pancreas_0199_p2_ch7"
     ]
    },
    {
     "name": "stderr",
     "output_type": "stream",
     "text": [
      "    Exception ignored in sys.unraisablehook      File \"/fast/home/j/jluesch/micromamba/envs/dinov2_2/lib/python3.10/site-packages/jupyter_client/session.py\", line 863, in send\n",
      "f()"
     ]
    },
    {
     "name": "stdout",
     "output_type": "stream",
     "text": [
      " "
     ]
    },
    {
     "name": "stderr",
     "output_type": "stream",
     "text": [
      ": \n"
     ]
    },
    {
     "name": "stdout",
     "output_type": "stream",
     "text": [
      "/fast/AG_Kainmueller/data/pan_m_lmdb_crops/vectra_pancreas/0-TRAIN_images"
     ]
    },
    {
     "name": "stderr",
     "output_type": "stream",
     "text": [
      "<built-in function unraisablehook>"
     ]
    },
    {
     "name": "stdout",
     "output_type": "stream",
     "text": [
      " "
     ]
    },
    {
     "name": "stderr",
     "output_type": "stream",
     "text": [
      "stream.send_multipart(to_send, copy=copy)  File \"/fast/home/j/jluesch/micromamba/envs/dinov2_2/lib/python3.10/site-packages/ipykernel/iostream.py\", line 275, in <lambda>\n"
     ]
    },
    {
     "name": "stdout",
     "output_type": "stream",
     "text": [
      "self.curr_in_chans None\n"
     ]
    },
    {
     "name": "stderr",
     "output_type": "stream",
     "text": [
      "    "
     ]
    },
    {
     "name": "stdout",
     "output_type": "stream",
     "text": [
      "eeeeee"
     ]
    },
    {
     "name": "stderr",
     "output_type": "stream",
     "text": [
      "self.schedule(lambda: self._really_send(*args, **kwargs))"
     ]
    },
    {
     "name": "stdout",
     "output_type": "stream",
     "text": [
      " mibi_breast_0094_p5_ch39"
     ]
    },
    {
     "name": "stderr",
     "output_type": "stream",
     "text": [
      "\n"
     ]
    },
    {
     "name": "stdout",
     "output_type": "stream",
     "text": [
      " "
     ]
    },
    {
     "name": "stderr",
     "output_type": "stream",
     "text": [
      "  File \"/fast/home/j/jluesch/micromamba/envs/dinov2_2/lib/python3.10/site-packages/ipykernel/iostream.py\", line 291, in _really_send\n",
      "    "
     ]
    },
    {
     "name": "stdout",
     "output_type": "stream",
     "text": [
      "/fast/AG_Kainmueller/data/pan_m_lmdb_crops/mibi_breast/0-TRAIN_images"
     ]
    },
    {
     "name": "stderr",
     "output_type": "stream",
     "text": [
      "ctx, pipe_out = self._setup_pipe_out()"
     ]
    },
    {
     "name": "stdout",
     "output_type": "stream",
     "text": [
      " "
     ]
    },
    {
     "name": "stderr",
     "output_type": "stream",
     "text": [
      "\n"
     ]
    },
    {
     "name": "stdout",
     "output_type": "stream",
     "text": [
      "self.curr_in_chans None\n"
     ]
    },
    {
     "name": "stderr",
     "output_type": "stream",
     "text": [
      "  File \"/fast/home/j/jluesch/micromamba/envs/dinov2_2/lib/python3.10/site-packages/ipykernel/iostream.py\", line 206, in _setup_pipe_out\n",
      "    ctx = zmq.Context()\n",
      "  File \"/fast/home/j/jluesch/micromamba/envs/dinov2_2/lib/python3.10/site-packages/zmq/sugar/context.py\", line 125, in __init__\n",
      "\n",
      "\n",
      "Traceback (most recent call last):\n",
      "  File \"/fast/home/j/jluesch/micromamba/envs/dinov2_2/lib/python3.10/site-packages/ipykernel/iostream.py\", line 275, in send_multipart\n"
     ]
    },
    {
     "name": "stdout",
     "output_type": "stream",
     "text": [
      "eeeeee"
     ]
    },
    {
     "name": "stderr",
     "output_type": "stream",
     "text": [
      "  File \"/fast/home/j/jluesch/micromamba/envs/dinov2_2/lib/python3.10/site-packages/ipykernel/iostream.py\", line 660, in write\n",
      "    "
     ]
    },
    {
     "name": "stdout",
     "output_type": "stream",
     "text": [
      " vectra_pancreas_0081_p5_ch7"
     ]
    },
    {
     "name": "stderr",
     "output_type": "stream",
     "text": [
      "    "
     ]
    },
    {
     "name": "stdout",
     "output_type": "stream",
     "text": [
      " "
     ]
    },
    {
     "name": "stderr",
     "output_type": "stream",
     "text": [
      "self.pub_thread.schedule(self._flush)self.schedule(lambda: self._really_send(*args, **kwargs))"
     ]
    },
    {
     "name": "stdout",
     "output_type": "stream",
     "text": [
      "/fast/AG_Kainmueller/data/pan_m_lmdb_crops/vectra_pancreas/0-TRAIN_images"
     ]
    },
    {
     "name": "stderr",
     "output_type": "stream",
     "text": [
      "\n"
     ]
    },
    {
     "name": "stdout",
     "output_type": "stream",
     "text": [
      " "
     ]
    },
    {
     "name": "stderr",
     "output_type": "stream",
     "text": [
      "    \n",
      "  File \"/fast/home/j/jluesch/micromamba/envs/dinov2_2/lib/python3.10/site-packages/ipykernel/iostream.py\", line 268, in schedule\n"
     ]
    },
    {
     "name": "stdout",
     "output_type": "stream",
     "text": [
      "self.curr_in_chans None"
     ]
    },
    {
     "name": "stderr",
     "output_type": "stream",
     "text": [
      "      File \"/fast/home/j/jluesch/micromamba/envs/dinov2_2/lib/python3.10/site-packages/ipykernel/iostream.py\", line 268, in schedule\n"
     ]
    },
    {
     "name": "stdout",
     "output_type": "stream",
     "text": [
      "\n"
     ]
    },
    {
     "name": "stderr",
     "output_type": "stream",
     "text": [
      "f()    \n",
      "Exception ignored in sys.unraisablehooksuper().__init__(io_threads=io_threads, shadow=shadow_address)f()  File \"/fast/home/j/jluesch/micromamba/envs/dinov2_2/lib/python3.10/site-packages/ipykernel/iostream.py\", line 275, in <lambda>\n",
      ": \n",
      "\n",
      "  File \"zmq/backend/cython/context.pyx\", line 49, in zmq.backend.cython.context.Context.__init__\n",
      "<built-in function unraisablehook>  File \"/fast/home/j/jluesch/micromamba/envs/dinov2_2/lib/python3.10/site-packages/ipykernel/iostream.py\", line 618, in _flush\n",
      "zmq.error\n",
      "    self.schedule(lambda: self._really_send(*args, **kwargs)).\n",
      "Traceback (most recent call last):\n",
      "ZMQError      File \"/fast/home/j/jluesch/micromamba/envs/dinov2_2/lib/python3.10/site-packages/ipykernel/iostream.py\", line 291, in _really_send\n",
      "  File \"/fast/home/j/jluesch/micromamba/envs/dinov2_2/lib/python3.10/site-packages/ipykernel/iostream.py\", line 660, in write\n",
      "    "
     ]
    },
    {
     "name": "stdout",
     "output_type": "stream",
     "text": [
      "eeeeee"
     ]
    },
    {
     "name": "stderr",
     "output_type": "stream",
     "text": [
      "ctx, pipe_out = self._setup_pipe_out()    : self.session.send(self.pub_thread.schedule(self._flush)"
     ]
    },
    {
     "name": "stdout",
     "output_type": "stream",
     "text": [
      " "
     ]
    },
    {
     "name": "stderr",
     "output_type": "stream",
     "text": [
      "\n",
      "\n"
     ]
    },
    {
     "name": "stdout",
     "output_type": "stream",
     "text": [
      "vectra_colon_0307_p4_ch7"
     ]
    },
    {
     "name": "stderr",
     "output_type": "stream",
     "text": [
      "\n"
     ]
    },
    {
     "name": "stdout",
     "output_type": "stream",
     "text": [
      " "
     ]
    },
    {
     "name": "stderr",
     "output_type": "stream",
     "text": [
      "  File \"/fast/home/j/jluesch/micromamba/envs/dinov2_2/lib/python3.10/site-packages/jupyter_client/session.py\", line 863, in send\n",
      "Too many open files  File \"/fast/home/j/jluesch/micromamba/envs/dinov2_2/lib/python3.10/site-packages/ipykernel/iostream.py\", line 206, in _setup_pipe_out\n"
     ]
    },
    {
     "name": "stdout",
     "output_type": "stream",
     "text": [
      "/fast/AG_Kainmueller/data/pan_m_lmdb_crops/vectra_colon/0-TRAIN_images"
     ]
    },
    {
     "name": "stderr",
     "output_type": "stream",
     "text": [
      "  File \"/fast/home/j/jluesch/micromamba/envs/dinov2_2/lib/python3.10/site-packages/ipykernel/iostream.py\", line 268, in schedule\n",
      "\n"
     ]
    },
    {
     "name": "stdout",
     "output_type": "stream",
     "text": [
      " "
     ]
    },
    {
     "name": "stderr",
     "output_type": "stream",
     "text": [
      "    stream.send_multipart(to_send, copy=copy)"
     ]
    },
    {
     "name": "stdout",
     "output_type": "stream",
     "text": [
      "self.curr_in_chans None"
     ]
    },
    {
     "name": "stderr",
     "output_type": "stream",
     "text": [
      "    \n",
      "      File \"/fast/home/j/jluesch/micromamba/envs/dinov2_2/lib/python3.10/site-packages/ipykernel/iostream.py\", line 275, in send_multipart\n",
      "ctx = zmq.Context()f()"
     ]
    },
    {
     "name": "stdout",
     "output_type": "stream",
     "text": [
      "\n"
     ]
    },
    {
     "name": "stderr",
     "output_type": "stream",
     "text": [
      "    \n",
      "\n",
      "self.schedule(lambda: self._really_send(*args, **kwargs))  File \"/fast/home/j/jluesch/micromamba/envs/dinov2_2/lib/python3.10/site-packages/zmq/sugar/context.py\", line 125, in __init__\n",
      "\n",
      "  File \"/fast/home/j/jluesch/micromamba/envs/dinov2_2/lib/python3.10/site-packages/ipykernel/iostream.py\", line 618, in _flush\n",
      "      File \"/fast/home/j/jluesch/micromamba/envs/dinov2_2/lib/python3.10/site-packages/ipykernel/iostream.py\", line 268, in schedule\n",
      "    super().__init__(io_threads=io_threads, shadow=shadow_address)    \n",
      "self.session.send(\n",
      "  File \"zmq/backend/cython/context.pyx\", line 49, in zmq.backend.cython.context.Context.__init__\n",
      "zmq.error  File \"/fast/home/j/jluesch/micromamba/envs/dinov2_2/lib/python3.10/site-packages/jupyter_client/session.py\", line 863, in send\n",
      ".    f()ZMQErrorstream.send_multipart(to_send, copy=copy): \n",
      "\n",
      "Too many open files  File \"/fast/home/j/jluesch/micromamba/envs/dinov2_2/lib/python3.10/site-packages/ipykernel/iostream.py\", line 275, in <lambda>\n",
      "  File \"/fast/home/j/jluesch/micromamba/envs/dinov2_2/lib/python3.10/site-packages/ipykernel/iostream.py\", line 275, in send_multipart\n",
      "\n",
      "        self.schedule(lambda: self._really_send(*args, **kwargs))self.schedule(lambda: self._really_send(*args, **kwargs))\n",
      "\n",
      "  File \"/fast/home/j/jluesch/micromamba/envs/dinov2_2/lib/python3.10/site-packages/ipykernel/iostream.py\", line 291, in _really_send\n",
      "  File \"/fast/home/j/jluesch/micromamba/envs/dinov2_2/lib/python3.10/site-packages/ipykernel/iostream.py\", line 268, in schedule\n",
      "    ctx, pipe_out = self._setup_pipe_out()    \n",
      "  File \"/fast/home/j/jluesch/micromamba/envs/dinov2_2/lib/python3.10/site-packages/ipykernel/iostream.py\", line 206, in _setup_pipe_out\n",
      "f()    \n",
      "ctx = zmq.Context()  File \"/fast/home/j/jluesch/micromamba/envs/dinov2_2/lib/python3.10/site-packages/ipykernel/iostream.py\", line 275, in <lambda>\n",
      "\n",
      "      File \"/fast/home/j/jluesch/micromamba/envs/dinov2_2/lib/python3.10/site-packages/zmq/sugar/context.py\", line 125, in __init__\n",
      "self.schedule(lambda: self._really_send(*args, **kwargs))    \n",
      "super().__init__(io_threads=io_threads, shadow=shadow_address)  File \"/fast/home/j/jluesch/micromamba/envs/dinov2_2/lib/python3.10/site-packages/ipykernel/iostream.py\", line 291, in _really_send\n",
      "\n",
      "      File \"zmq/backend/cython/context.pyx\", line 49, in zmq.backend.cython.context.Context.__init__\n",
      "ctx, pipe_out = self._setup_pipe_out()zmq.error\n",
      ".ZMQError: Too many open files  File \"/fast/home/j/jluesch/micromamba/envs/dinov2_2/lib/python3.10/site-packages/ipykernel/iostream.py\", line 206, in _setup_pipe_out\n",
      "\n",
      "    ctx = zmq.Context()\n",
      "  File \"/fast/home/j/jluesch/micromamba/envs/dinov2_2/lib/python3.10/site-packages/zmq/sugar/context.py\", line 125, in __init__\n",
      "    super().__init__(io_threads=io_threads, shadow=shadow_address)"
     ]
    },
    {
     "name": "stdout",
     "output_type": "stream",
     "text": [
      "eeeeee vectra_pancreas_0009_p3_ch7"
     ]
    },
    {
     "name": "stderr",
     "output_type": "stream",
     "text": [
      "\n"
     ]
    },
    {
     "name": "stdout",
     "output_type": "stream",
     "text": [
      " /fast/AG_Kainmueller/data/pan_m_lmdb_crops/vectra_pancreas/0-TRAIN_images"
     ]
    },
    {
     "name": "stderr",
     "output_type": "stream",
     "text": [
      "  File \"zmq/backend/cython/context.pyx\", line 49, in zmq.backend.cython.context.Context.__init__\n",
      "zmq.error."
     ]
    },
    {
     "name": "stdout",
     "output_type": "stream",
     "text": [
      " "
     ]
    },
    {
     "name": "stderr",
     "output_type": "stream",
     "text": [
      "ZMQError"
     ]
    },
    {
     "name": "stdout",
     "output_type": "stream",
     "text": [
      "self.curr_in_chans None\n"
     ]
    },
    {
     "name": "stderr",
     "output_type": "stream",
     "text": [
      ": Too many open files\n"
     ]
    },
    {
     "name": "stdout",
     "output_type": "stream",
     "text": [
      "eeeeee mibi_breast_0594_p7_ch39 /fast/AG_Kainmueller/data/pan_m_lmdb_crops/mibi_breast/0-TRAIN_images eeeeeeself.curr_in_chans None\n",
      " mibi_breast_1206_p4_ch39 /fast/AG_Kainmueller/data/pan_m_lmdb_crops/mibi_breast/0-TRAIN_images self.curr_in_chans None\n",
      "eeeeee mibi_breast_1175_p3_ch39 /fast/AG_Kainmueller/data/pan_m_lmdb_crops/mibi_breast/0-TRAIN_images self.curr_in_chans None\n",
      "eeeeee mibi_breast_0410_p8_ch39 /fast/AG_Kainmueller/data/pan_m_lmdb_crops/mibi_breast/0-TRAIN_images self.curr_in_chans None\n",
      "eeeeee mibi_breast_0212_p0_ch39 /fast/AG_Kainmueller/data/pan_m_lmdb_crops/mibi_breast/0-TRAIN_images self.curr_in_chans None\n",
      "eeeeee mibi_breast_0013_p9_ch39 /fast/AG_Kainmueller/data/pan_m_lmdb_crops/mibi_breast/0-TRAIN_images self.curr_in_chans None\n",
      "eeeeee mibi_breast_0728_p0_ch39 /fast/AG_Kainmueller/data/pan_m_lmdb_crops/mibi_breast/0-TRAIN_images self.curr_in_chans None\n",
      "eeeeee vectra_colon_0358_p3_ch7 /fast/AG_Kainmueller/data/pan_m_lmdb_crops/vectra_colon/0-TRAIN_images self.curr_in_chans None\n",
      "eeeeee vectra_colon_0306_p1_ch7 /fast/AG_Kainmueller/data/pan_m_lmdb_crops/vectra_colon/0-TRAIN_images \n",
      "self.curr_in_chans Noneeeeeee mibi_breast_0708_p1_ch39 /fast/AG_Kainmueller/data/pan_m_lmdb_crops/mibi_breast/0-TRAIN_images eeeeeeself.curr_in_chans None \n",
      "mibi_breast_0972_p9_ch39 /fast/AG_Kainmueller/data/pan_m_lmdb_crops/mibi_breast/0-TRAIN_images self.curr_in_chans None\n",
      "eeeeee mibi_breast_0829_p8_ch39 /fast/AG_Kainmueller/data/pan_m_lmdb_crops/mibi_breast/0-TRAIN_images self.curr_in_chans None\n"
     ]
    },
    {
     "name": "stderr",
     "output_type": "stream",
     "text": [
      "Too many open files (src/epoll.cpp:38)\n"
     ]
    },
    {
     "ename": "EOFError",
     "evalue": "",
     "output_type": "error",
     "traceback": [
      "\u001b[0;31m---------------------------------------------------------------------------\u001b[0m",
      "\u001b[0;31mEOFError\u001b[0m                                  Traceback (most recent call last)",
      "Cell \u001b[0;32mIn[5], line 1\u001b[0m\n\u001b[0;32m----> 1\u001b[0m \u001b[38;5;28;01mfor\u001b[39;00m i, batch \u001b[38;5;129;01min\u001b[39;00m \u001b[38;5;28menumerate\u001b[39m(data_loader):\n\u001b[1;32m      2\u001b[0m     \u001b[38;5;28;01mif\u001b[39;00m i \u001b[38;5;241m>\u001b[39m \u001b[38;5;241m10\u001b[39m:\n\u001b[1;32m      3\u001b[0m         \u001b[38;5;28;01mbreak\u001b[39;00m\n",
      "File \u001b[0;32m/fast/home/j/jluesch/micromamba/envs/dinov2_2/lib/python3.10/site-packages/torch/utils/data/dataloader.py:631\u001b[0m, in \u001b[0;36m_BaseDataLoaderIter.__next__\u001b[0;34m(self)\u001b[0m\n\u001b[1;32m    628\u001b[0m \u001b[38;5;28;01mif\u001b[39;00m \u001b[38;5;28mself\u001b[39m\u001b[38;5;241m.\u001b[39m_sampler_iter \u001b[38;5;129;01mis\u001b[39;00m \u001b[38;5;28;01mNone\u001b[39;00m:\n\u001b[1;32m    629\u001b[0m     \u001b[38;5;66;03m# TODO(https://github.com/pytorch/pytorch/issues/76750)\u001b[39;00m\n\u001b[1;32m    630\u001b[0m     \u001b[38;5;28mself\u001b[39m\u001b[38;5;241m.\u001b[39m_reset()  \u001b[38;5;66;03m# type: ignore[call-arg]\u001b[39;00m\n\u001b[0;32m--> 631\u001b[0m data \u001b[38;5;241m=\u001b[39m \u001b[38;5;28;43mself\u001b[39;49m\u001b[38;5;241;43m.\u001b[39;49m\u001b[43m_next_data\u001b[49m\u001b[43m(\u001b[49m\u001b[43m)\u001b[49m\n\u001b[1;32m    632\u001b[0m \u001b[38;5;28mself\u001b[39m\u001b[38;5;241m.\u001b[39m_num_yielded \u001b[38;5;241m+\u001b[39m\u001b[38;5;241m=\u001b[39m \u001b[38;5;241m1\u001b[39m\n\u001b[1;32m    633\u001b[0m \u001b[38;5;28;01mif\u001b[39;00m \u001b[38;5;28mself\u001b[39m\u001b[38;5;241m.\u001b[39m_dataset_kind \u001b[38;5;241m==\u001b[39m _DatasetKind\u001b[38;5;241m.\u001b[39mIterable \u001b[38;5;129;01mand\u001b[39;00m \\\n\u001b[1;32m    634\u001b[0m         \u001b[38;5;28mself\u001b[39m\u001b[38;5;241m.\u001b[39m_IterableDataset_len_called \u001b[38;5;129;01mis\u001b[39;00m \u001b[38;5;129;01mnot\u001b[39;00m \u001b[38;5;28;01mNone\u001b[39;00m \u001b[38;5;129;01mand\u001b[39;00m \\\n\u001b[1;32m    635\u001b[0m         \u001b[38;5;28mself\u001b[39m\u001b[38;5;241m.\u001b[39m_num_yielded \u001b[38;5;241m>\u001b[39m \u001b[38;5;28mself\u001b[39m\u001b[38;5;241m.\u001b[39m_IterableDataset_len_called:\n",
      "File \u001b[0;32m/fast/home/j/jluesch/micromamba/envs/dinov2_2/lib/python3.10/site-packages/torch/utils/data/dataloader.py:1329\u001b[0m, in \u001b[0;36m_MultiProcessingDataLoaderIter._next_data\u001b[0;34m(self)\u001b[0m\n\u001b[1;32m   1326\u001b[0m     \u001b[38;5;28;01mreturn\u001b[39;00m \u001b[38;5;28mself\u001b[39m\u001b[38;5;241m.\u001b[39m_process_data(data)\n\u001b[1;32m   1328\u001b[0m \u001b[38;5;28;01massert\u001b[39;00m \u001b[38;5;129;01mnot\u001b[39;00m \u001b[38;5;28mself\u001b[39m\u001b[38;5;241m.\u001b[39m_shutdown \u001b[38;5;129;01mand\u001b[39;00m \u001b[38;5;28mself\u001b[39m\u001b[38;5;241m.\u001b[39m_tasks_outstanding \u001b[38;5;241m>\u001b[39m \u001b[38;5;241m0\u001b[39m\n\u001b[0;32m-> 1329\u001b[0m idx, data \u001b[38;5;241m=\u001b[39m \u001b[38;5;28;43mself\u001b[39;49m\u001b[38;5;241;43m.\u001b[39;49m\u001b[43m_get_data\u001b[49m\u001b[43m(\u001b[49m\u001b[43m)\u001b[49m\n\u001b[1;32m   1330\u001b[0m \u001b[38;5;28mself\u001b[39m\u001b[38;5;241m.\u001b[39m_tasks_outstanding \u001b[38;5;241m-\u001b[39m\u001b[38;5;241m=\u001b[39m \u001b[38;5;241m1\u001b[39m\n\u001b[1;32m   1331\u001b[0m \u001b[38;5;28;01mif\u001b[39;00m \u001b[38;5;28mself\u001b[39m\u001b[38;5;241m.\u001b[39m_dataset_kind \u001b[38;5;241m==\u001b[39m _DatasetKind\u001b[38;5;241m.\u001b[39mIterable:\n\u001b[1;32m   1332\u001b[0m     \u001b[38;5;66;03m# Check for _IterableDatasetStopIteration\u001b[39;00m\n",
      "File \u001b[0;32m/fast/home/j/jluesch/micromamba/envs/dinov2_2/lib/python3.10/site-packages/torch/utils/data/dataloader.py:1295\u001b[0m, in \u001b[0;36m_MultiProcessingDataLoaderIter._get_data\u001b[0;34m(self)\u001b[0m\n\u001b[1;32m   1291\u001b[0m     \u001b[38;5;66;03m# In this case, `self._data_queue` is a `queue.Queue`,. But we don't\u001b[39;00m\n\u001b[1;32m   1292\u001b[0m     \u001b[38;5;66;03m# need to call `.task_done()` because we don't use `.join()`.\u001b[39;00m\n\u001b[1;32m   1293\u001b[0m \u001b[38;5;28;01melse\u001b[39;00m:\n\u001b[1;32m   1294\u001b[0m     \u001b[38;5;28;01mwhile\u001b[39;00m \u001b[38;5;28;01mTrue\u001b[39;00m:\n\u001b[0;32m-> 1295\u001b[0m         success, data \u001b[38;5;241m=\u001b[39m \u001b[38;5;28;43mself\u001b[39;49m\u001b[38;5;241;43m.\u001b[39;49m\u001b[43m_try_get_data\u001b[49m\u001b[43m(\u001b[49m\u001b[43m)\u001b[49m\n\u001b[1;32m   1296\u001b[0m         \u001b[38;5;28;01mif\u001b[39;00m success:\n\u001b[1;32m   1297\u001b[0m             \u001b[38;5;28;01mreturn\u001b[39;00m data\n",
      "File \u001b[0;32m/fast/home/j/jluesch/micromamba/envs/dinov2_2/lib/python3.10/site-packages/torch/utils/data/dataloader.py:1133\u001b[0m, in \u001b[0;36m_MultiProcessingDataLoaderIter._try_get_data\u001b[0;34m(self, timeout)\u001b[0m\n\u001b[1;32m   1120\u001b[0m \u001b[38;5;28;01mdef\u001b[39;00m \u001b[38;5;21m_try_get_data\u001b[39m(\u001b[38;5;28mself\u001b[39m, timeout\u001b[38;5;241m=\u001b[39m_utils\u001b[38;5;241m.\u001b[39mMP_STATUS_CHECK_INTERVAL):\n\u001b[1;32m   1121\u001b[0m     \u001b[38;5;66;03m# Tries to fetch data from `self._data_queue` once for a given timeout.\u001b[39;00m\n\u001b[1;32m   1122\u001b[0m     \u001b[38;5;66;03m# This can also be used as inner loop of fetching without timeout, with\u001b[39;00m\n\u001b[0;32m   (...)\u001b[0m\n\u001b[1;32m   1130\u001b[0m     \u001b[38;5;66;03m# Returns a 2-tuple:\u001b[39;00m\n\u001b[1;32m   1131\u001b[0m     \u001b[38;5;66;03m#   (bool: whether successfully get data, any: data if successful else None)\u001b[39;00m\n\u001b[1;32m   1132\u001b[0m     \u001b[38;5;28;01mtry\u001b[39;00m:\n\u001b[0;32m-> 1133\u001b[0m         data \u001b[38;5;241m=\u001b[39m \u001b[38;5;28;43mself\u001b[39;49m\u001b[38;5;241;43m.\u001b[39;49m\u001b[43m_data_queue\u001b[49m\u001b[38;5;241;43m.\u001b[39;49m\u001b[43mget\u001b[49m\u001b[43m(\u001b[49m\u001b[43mtimeout\u001b[49m\u001b[38;5;241;43m=\u001b[39;49m\u001b[43mtimeout\u001b[49m\u001b[43m)\u001b[49m\n\u001b[1;32m   1134\u001b[0m         \u001b[38;5;28;01mreturn\u001b[39;00m (\u001b[38;5;28;01mTrue\u001b[39;00m, data)\n\u001b[1;32m   1135\u001b[0m     \u001b[38;5;28;01mexcept\u001b[39;00m \u001b[38;5;167;01mException\u001b[39;00m \u001b[38;5;28;01mas\u001b[39;00m e:\n\u001b[1;32m   1136\u001b[0m         \u001b[38;5;66;03m# At timeout and error, we manually check whether any worker has\u001b[39;00m\n\u001b[1;32m   1137\u001b[0m         \u001b[38;5;66;03m# failed. Note that this is the only mechanism for Windows to detect\u001b[39;00m\n\u001b[1;32m   1138\u001b[0m         \u001b[38;5;66;03m# worker failures.\u001b[39;00m\n",
      "File \u001b[0;32m/fast/home/j/jluesch/micromamba/envs/dinov2_2/lib/python3.10/multiprocessing/queues.py:122\u001b[0m, in \u001b[0;36mQueue.get\u001b[0;34m(self, block, timeout)\u001b[0m\n\u001b[1;32m    120\u001b[0m         \u001b[38;5;28mself\u001b[39m\u001b[38;5;241m.\u001b[39m_rlock\u001b[38;5;241m.\u001b[39mrelease()\n\u001b[1;32m    121\u001b[0m \u001b[38;5;66;03m# unserialize the data after having released the lock\u001b[39;00m\n\u001b[0;32m--> 122\u001b[0m \u001b[38;5;28;01mreturn\u001b[39;00m \u001b[43m_ForkingPickler\u001b[49m\u001b[38;5;241;43m.\u001b[39;49m\u001b[43mloads\u001b[49m\u001b[43m(\u001b[49m\u001b[43mres\u001b[49m\u001b[43m)\u001b[49m\n",
      "File \u001b[0;32m/fast/home/j/jluesch/micromamba/envs/dinov2_2/lib/python3.10/site-packages/torch/multiprocessing/reductions.py:495\u001b[0m, in \u001b[0;36mrebuild_storage_fd\u001b[0;34m(cls, df, size)\u001b[0m\n\u001b[1;32m    494\u001b[0m \u001b[38;5;28;01mdef\u001b[39;00m \u001b[38;5;21mrebuild_storage_fd\u001b[39m(\u001b[38;5;28mcls\u001b[39m, df, size):\n\u001b[0;32m--> 495\u001b[0m     fd \u001b[38;5;241m=\u001b[39m \u001b[43mdf\u001b[49m\u001b[38;5;241;43m.\u001b[39;49m\u001b[43mdetach\u001b[49m\u001b[43m(\u001b[49m\u001b[43m)\u001b[49m\n\u001b[1;32m    496\u001b[0m     \u001b[38;5;28;01mtry\u001b[39;00m:\n\u001b[1;32m    497\u001b[0m         storage \u001b[38;5;241m=\u001b[39m storage_from_cache(\u001b[38;5;28mcls\u001b[39m, fd_id(fd))\n",
      "File \u001b[0;32m/fast/home/j/jluesch/micromamba/envs/dinov2_2/lib/python3.10/multiprocessing/resource_sharer.py:58\u001b[0m, in \u001b[0;36mDupFd.detach\u001b[0;34m(self)\u001b[0m\n\u001b[1;32m     56\u001b[0m \u001b[38;5;250m\u001b[39m\u001b[38;5;124;03m'''Get the fd.  This should only be called once.'''\u001b[39;00m\n\u001b[1;32m     57\u001b[0m \u001b[38;5;28;01mwith\u001b[39;00m _resource_sharer\u001b[38;5;241m.\u001b[39mget_connection(\u001b[38;5;28mself\u001b[39m\u001b[38;5;241m.\u001b[39m_id) \u001b[38;5;28;01mas\u001b[39;00m conn:\n\u001b[0;32m---> 58\u001b[0m     \u001b[38;5;28;01mreturn\u001b[39;00m \u001b[43mreduction\u001b[49m\u001b[38;5;241;43m.\u001b[39;49m\u001b[43mrecv_handle\u001b[49m\u001b[43m(\u001b[49m\u001b[43mconn\u001b[49m\u001b[43m)\u001b[49m\n",
      "File \u001b[0;32m/fast/home/j/jluesch/micromamba/envs/dinov2_2/lib/python3.10/multiprocessing/reduction.py:189\u001b[0m, in \u001b[0;36mrecv_handle\u001b[0;34m(conn)\u001b[0m\n\u001b[1;32m    187\u001b[0m \u001b[38;5;250m\u001b[39m\u001b[38;5;124;03m'''Receive a handle over a local connection.'''\u001b[39;00m\n\u001b[1;32m    188\u001b[0m \u001b[38;5;28;01mwith\u001b[39;00m socket\u001b[38;5;241m.\u001b[39mfromfd(conn\u001b[38;5;241m.\u001b[39mfileno(), socket\u001b[38;5;241m.\u001b[39mAF_UNIX, socket\u001b[38;5;241m.\u001b[39mSOCK_STREAM) \u001b[38;5;28;01mas\u001b[39;00m s:\n\u001b[0;32m--> 189\u001b[0m     \u001b[38;5;28;01mreturn\u001b[39;00m \u001b[43mrecvfds\u001b[49m\u001b[43m(\u001b[49m\u001b[43ms\u001b[49m\u001b[43m,\u001b[49m\u001b[43m \u001b[49m\u001b[38;5;241;43m1\u001b[39;49m\u001b[43m)\u001b[49m[\u001b[38;5;241m0\u001b[39m]\n",
      "File \u001b[0;32m/fast/home/j/jluesch/micromamba/envs/dinov2_2/lib/python3.10/multiprocessing/reduction.py:159\u001b[0m, in \u001b[0;36mrecvfds\u001b[0;34m(sock, size)\u001b[0m\n\u001b[1;32m    157\u001b[0m msg, ancdata, flags, addr \u001b[38;5;241m=\u001b[39m sock\u001b[38;5;241m.\u001b[39mrecvmsg(\u001b[38;5;241m1\u001b[39m, socket\u001b[38;5;241m.\u001b[39mCMSG_SPACE(bytes_size))\n\u001b[1;32m    158\u001b[0m \u001b[38;5;28;01mif\u001b[39;00m \u001b[38;5;129;01mnot\u001b[39;00m msg \u001b[38;5;129;01mand\u001b[39;00m \u001b[38;5;129;01mnot\u001b[39;00m ancdata:\n\u001b[0;32m--> 159\u001b[0m     \u001b[38;5;28;01mraise\u001b[39;00m \u001b[38;5;167;01mEOFError\u001b[39;00m\n\u001b[1;32m    160\u001b[0m \u001b[38;5;28;01mtry\u001b[39;00m:\n\u001b[1;32m    161\u001b[0m     \u001b[38;5;28;01mif\u001b[39;00m ACKNOWLEDGE:\n",
      "\u001b[0;31mEOFError\u001b[0m: "
     ]
    },
    {
     "name": "stderr",
     "output_type": "stream",
     "text": [
      "Traceback (most recent call last):\n",
      "  File \"/fast/home/j/jluesch/micromamba/envs/dinov2_2/lib/python3.10/runpy.py\", line 196, in _run_module_as_main\n",
      "    return _run_code(code, main_globals, None,\n",
      "  File \"/fast/home/j/jluesch/micromamba/envs/dinov2_2/lib/python3.10/runpy.py\", line 86, in _run_code\n",
      "    exec(code, run_globals)\n",
      "  File \"/fast/home/j/jluesch/micromamba/envs/dinov2_2/lib/python3.10/site-packages/ipykernel_launcher.py\", line 17, in <module>\n",
      "    app.launch_new_instance()\n",
      "  File \"/fast/home/j/jluesch/micromamba/envs/dinov2_2/lib/python3.10/site-packages/traitlets/config/application.py\", line 992, in launch_instance\n",
      "    app.start()\n",
      "  File \"/fast/home/j/jluesch/micromamba/envs/dinov2_2/lib/python3.10/site-packages/ipykernel/kernelapp.py\", line 701, in start\n",
      "    self.io_loop.start()\n",
      "  File \"/fast/home/j/jluesch/micromamba/envs/dinov2_2/lib/python3.10/site-packages/tornado/platform/asyncio.py\", line 195, in start\n",
      "    self.asyncio_loop.run_forever()\n",
      "  File \"/fast/home/j/jluesch/micromamba/envs/dinov2_2/lib/python3.10/asyncio/base_events.py\", line 603, in run_forever\n",
      "    self._run_once()\n",
      "  File \"/fast/home/j/jluesch/micromamba/envs/dinov2_2/lib/python3.10/asyncio/base_events.py\", line 1871, in _run_once\n",
      "    event_list = self._selector.select(timeout)\n",
      "  File \"/fast/home/j/jluesch/micromamba/envs/dinov2_2/lib/python3.10/selectors.py\", line 469, in select\n",
      "    fd_event_list = self._selector.poll(timeout, max_ev)\n",
      "  File \"/fast/home/j/jluesch/micromamba/envs/dinov2_2/lib/python3.10/site-packages/torch/utils/data/_utils/signal_handling.py\", line 66, in handler\n",
      "    _error_if_any_worker_fails()\n",
      "RuntimeError: DataLoader worker (pid 2217521) is killed by signal: Aborted. \n"
     ]
    }
   ],
   "source": [
    "for i, batch in enumerate(data_loader):\n",
    "    if i > 10:\n",
    "        break\n",
    "    print('GC', [e.shape for e in batch['collated_global_crops']])\n",
    "    print(\"LC\", [e.shape for e in batch[\"collated_local_crops\"]])\n",
    "\n",
    "    gc_0 = batch['collated_global_crops'][0].to(torch.float32)\n",
    "    lc_0 = batch[\"collated_local_crops\"][0].to(torch.float32)\n",
    "    gc0_0 = (gc_0[0] - gc_0[0].min()) / (gc_0[0].max() - gc_0[0].min())\n",
    "    lc0_0 = (lc_0[0] - lc_0[0].min()) / (lc_0[0].max() - lc_0[0].min())\n",
    "\n",
    "    f,a = plt.subplots(1, 2)\n",
    "    a[0].imshow(gc0_0[:3].reshape(3, 224, 224).permute(1, 2, 0))\n",
    "    a[1].imshow(lc0_0[:3].permute(1, 2, 0))\n",
    "    plt.show()\n",
    "\n",
    "\n"
   ]
  },
  {
   "cell_type": "code",
   "execution_count": 31,
   "metadata": {},
   "outputs": [
    {
     "name": "stdout",
     "output_type": "stream",
     "text": [
      "{'aa': 0, 'bb': 1, 'cc': 2, 'dd': 3}\n"
     ]
    }
   ],
   "source": [
    "a1={'aa': 00, 'bb': 1}\n",
    "\n",
    "a2={'cc': 2, 'dd': 3}\n",
    "\n",
    "print(a1 | a2)"
   ]
  },
  {
   "cell_type": "code",
   "execution_count": null,
   "metadata": {},
   "outputs": [],
   "source": []
  }
 ],
 "metadata": {
  "kernelspec": {
   "display_name": "Python 3 (ipykernel)",
   "language": "python",
   "name": "python3"
  },
  "language_info": {
   "codemirror_mode": {
    "name": "ipython",
    "version": 3
   },
   "file_extension": ".py",
   "mimetype": "text/x-python",
   "name": "python",
   "nbconvert_exporter": "python",
   "pygments_lexer": "ipython3",
   "version": "3.10.14"
  }
 },
 "nbformat": 4,
 "nbformat_minor": 4
}
