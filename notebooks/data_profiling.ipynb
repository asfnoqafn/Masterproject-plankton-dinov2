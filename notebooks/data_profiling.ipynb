{
 "cells": [
  {
   "cell_type": "code",
   "execution_count": null,
   "id": "07edda06-e2a9-4e03-b537-2e97ab2cbf25",
   "metadata": {},
   "outputs": [],
   "source": [
    "import os\n",
    "from PIL import Image\n",
    "import numpy as np\n",
    "import matplotlib.pyplot as plt\n",
    "\n",
    "import io\n",
    "import lmdb\n",
    "import zipfile\n",
    "import tarfile\n",
    "\n",
    "\n",
    "def open_and_measure_data(\n",
    "    data_path, archive_type, threshold=-1\n",
    "):\n",
    "    heights = []\n",
    "    widths = []\n",
    "    num_images = 0\n",
    "    folder_name = \"\"\n",
    "    if archive_type == 'lmdb':\n",
    "\n",
    "        folder_name = data_path.split('/')[-1]\n",
    "\n",
    "        env_imgs = lmdb.open(data_path, readonly=True)\n",
    "\n",
    "        with env_imgs.begin() as txn_imgs:\n",
    "            cursor_imgs = txn_imgs.cursor()\n",
    "        #  cursor_labels = txn_labels.cursor()\n",
    "            for (img_key, img_value) in cursor_imgs:\n",
    "                img = Image.open(io.BytesIO(img_value))\n",
    "                width, height = img.size\n",
    "                # print('Image format = ', img.size)\n",
    "                \n",
    "                num_images += 1\n",
    "                if width < 400 and height < 400:\n",
    "                    widths.append(width)\n",
    "                    heights.append(height)\n",
    "\n",
    "                num_images += 1\n",
    "                if width < 400 and height < 400:\n",
    "                    widths.append(width)\n",
    "                    heights.append(height)\n",
    "\n",
    "    elif archive_type == \"zip\":\n",
    "        folder_name = os.path.basename(data_path)\n",
    "        with zipfile.ZipFile(data_path, \"r\") as zip_file:\n",
    "            image_files = [\n",
    "                name\n",
    "                for name in zip_file.namelist()\n",
    "                if name.lower().endswith(\n",
    "                    (\".png\", \".jpg\", \".jpeg\")\n",
    "                )\n",
    "            ]\n",
    "            for img_file in image_files:\n",
    "                with zip_file.open(img_file) as img_data:\n",
    "                    img = Image.open(img_data)\n",
    "                    width, height = img.size\n",
    "                    num_images += 1\n",
    "                    if width < 400 and height < 400:\n",
    "                        widths.append(width)\n",
    "                        heights.append(height)\n",
    "                        widths.append(width)\n",
    "\n",
    "    elif archive_type == \"tar\":\n",
    "        folder_name = os.path.basename(data_path)\n",
    "        with tarfile.open(data_path, \"r\") as tar_file:\n",
    "            image_files = [\n",
    "                member\n",
    "                for member in tar_file.getmembers()\n",
    "                if member.name.lower().endswith(\n",
    "                    (\".png\", \".jpg\", \".jpeg\")\n",
    "                )\n",
    "            ]\n",
    "            for img_file in image_files:\n",
    "                img_data = tar_file.extractfile(img_file)\n",
    "                if img_data:\n",
    "                    img = Image.open(img_data)\n",
    "                    width, height = img.size\n",
    "                    num_images += 1\n",
    "                    if width < 400 and height < 400:\n",
    "                        widths.append(width)\n",
    "                        heights.append(height)\n",
    "    else:\n",
    "        raise ValueError(\"Unsupported archive type. Use 'zip' or 'tar'.\")\n",
    "    \n",
    "             \n",
    "\n",
    "    height_stats = {\n",
    "        \"median\": np.median(heights),\n",
    "        \"mean\": np.mean(heights),\n",
    "        \"std\": np.std(heights),\n",
    "        \"min\": np.amin(heights),\n",
    "        \"max\": np.amax(heights),\n",
    "    }\n",
    "\n",
    "    width_stats = {\n",
    "            'median': np.median(widths),\n",
    "            'mean': np.mean(widths),\n",
    "            'std': np.std(widths),\n",
    "            'min': np.min(widths),\n",
    "            'max': np.max(widths)\n",
    "        }\n",
    "    \n",
    "    plt.hist2d(widths, heights, bins=100)\n",
    "    plt.colorbar()\n",
    "    plt.xlabel(\"Width (in px)\")\n",
    "    plt.ylabel(\"Height (in px)\")\n",
    "    plt.title(\n",
    "        f\"{folder_name} Size Distribution (Log Scale) ({len(heights)} images)\"\n",
    "    )\n",
    "    plt.xscale(\"log\")\n",
    "    plt.yscale(\"log\")\n",
    "    plt.show()\n",
    "\n",
    "    return height_stats, width_stats\n",
    "\n",
    "\n"
   ]
  },
  {
   "cell_type": "markdown",
   "id": "4b7ff345",
   "metadata": {},
   "source": [
    "## Pisco\n"
   ]
  },
  {
   "cell_type": "code",
   "execution_count": 9,
   "id": "14705ef8",
   "metadata": {},
   "outputs": [
    {
     "data": {
      "image/png": "[encoded data removed]",
      "text/plain": [
       "<Figure size 640x480 with 2 Axes>"
      ]
     },
     "metadata": {},
     "output_type": "display_data"
    },
    {
     "data": {
      "text/plain": [
       "({'median': 41.0,\n",
       "  'mean': 47.920974705237825,\n",
       "  'std': 27.585914114324705,\n",
       "  'min': 8,\n",
       "  'max': 399},\n",
       " {'median': 47.0,\n",
       "  'mean': 52.90884707953662,\n",
       "  'std': 26.73974251774121,\n",
       "  'min': 7,\n",
       "  'max': 399})"
      ]
     },
     "execution_count": 9,
     "metadata": {},
     "output_type": "execute_result"
    }
   ],
   "source": [
    "data_dir_pisco = '/home/hk-project-p0021769/hgf_vwg6996/data/pisco_zip/exported_images.zip'\n",
    "open_and_measure_data(data_dir_pisco, 'zip')"
   ]
  },
  {
   "cell_type": "code",
   "execution_count": 7,
   "id": "352a33aa",
   "metadata": {},
   "outputs": [
    {
     "ename": "BadZipFile",
     "evalue": "File is not a zip file",
     "output_type": "error",
     "traceback": [
      "\u001b[0;31m---------------------------------------------------------------------------\u001b[0m",
      "\u001b[0;31mBadZipFile\u001b[0m                                Traceback (most recent call last)",
      "Cell \u001b[0;32mIn[7], line 2\u001b[0m\n\u001b[1;32m      1\u001b[0m data_dir \u001b[38;5;241m=\u001b[39m \u001b[38;5;124m'\u001b[39m\u001b[38;5;124m/home/hk-project-p0021769/hgf_col5747/data/datasciencebowl/datasciencebowl.zip\u001b[39m\u001b[38;5;124m'\u001b[39m\n\u001b[0;32m----> 2\u001b[0m \u001b[43mopen_and_measure_data\u001b[49m\u001b[43m(\u001b[49m\u001b[43mdata_dir_pisco\u001b[49m\u001b[43m,\u001b[49m\u001b[43m \u001b[49m\u001b[38;5;124;43m'\u001b[39;49m\u001b[38;5;124;43mzip\u001b[39;49m\u001b[38;5;124;43m'\u001b[39;49m\u001b[43m)\u001b[49m\n",
      "Cell \u001b[0;32mIn[3], line 45\u001b[0m, in \u001b[0;36mopen_and_measure_data\u001b[0;34m(data_path, archive_type)\u001b[0m\n\u001b[1;32m     43\u001b[0m \u001b[38;5;28;01melif\u001b[39;00m archive_type \u001b[38;5;241m==\u001b[39m \u001b[38;5;124m'\u001b[39m\u001b[38;5;124mzip\u001b[39m\u001b[38;5;124m'\u001b[39m:\n\u001b[1;32m     44\u001b[0m     folder_name \u001b[38;5;241m=\u001b[39m os\u001b[38;5;241m.\u001b[39mpath\u001b[38;5;241m.\u001b[39mbasename(data_path)\n\u001b[0;32m---> 45\u001b[0m     \u001b[38;5;28;01mwith\u001b[39;00m \u001b[43mzipfile\u001b[49m\u001b[38;5;241;43m.\u001b[39;49m\u001b[43mZipFile\u001b[49m\u001b[43m(\u001b[49m\u001b[43mdata_path\u001b[49m\u001b[43m,\u001b[49m\u001b[43m \u001b[49m\u001b[38;5;124;43m'\u001b[39;49m\u001b[38;5;124;43mr\u001b[39;49m\u001b[38;5;124;43m'\u001b[39;49m\u001b[43m)\u001b[49m \u001b[38;5;28;01mas\u001b[39;00m zip_file:\n\u001b[1;32m     46\u001b[0m         image_files \u001b[38;5;241m=\u001b[39m [name \u001b[38;5;28;01mfor\u001b[39;00m name \u001b[38;5;129;01min\u001b[39;00m zip_file\u001b[38;5;241m.\u001b[39mnamelist() \u001b[38;5;28;01mif\u001b[39;00m name\u001b[38;5;241m.\u001b[39mlower()\u001b[38;5;241m.\u001b[39mendswith((\u001b[38;5;124m'\u001b[39m\u001b[38;5;124m.png\u001b[39m\u001b[38;5;124m'\u001b[39m, \u001b[38;5;124m'\u001b[39m\u001b[38;5;124m.jpg\u001b[39m\u001b[38;5;124m'\u001b[39m, \u001b[38;5;124m'\u001b[39m\u001b[38;5;124m.jpeg\u001b[39m\u001b[38;5;124m'\u001b[39m))]\n\u001b[1;32m     47\u001b[0m         \u001b[38;5;28;01mfor\u001b[39;00m img_file \u001b[38;5;129;01min\u001b[39;00m image_files:\n",
      "File \u001b[0;32m/hkfs/home/project/hk-project-p0021769/hgf_col5747/micromamba/envs/dinov2/lib/python3.10/zipfile.py:1271\u001b[0m, in \u001b[0;36mZipFile.__init__\u001b[0;34m(self, file, mode, compression, allowZip64, compresslevel, strict_timestamps)\u001b[0m\n\u001b[1;32m   1269\u001b[0m \u001b[38;5;28;01mtry\u001b[39;00m:\n\u001b[1;32m   1270\u001b[0m     \u001b[38;5;28;01mif\u001b[39;00m mode \u001b[38;5;241m==\u001b[39m \u001b[38;5;124m'\u001b[39m\u001b[38;5;124mr\u001b[39m\u001b[38;5;124m'\u001b[39m:\n\u001b[0;32m-> 1271\u001b[0m         \u001b[38;5;28;43mself\u001b[39;49m\u001b[38;5;241;43m.\u001b[39;49m\u001b[43m_RealGetContents\u001b[49m\u001b[43m(\u001b[49m\u001b[43m)\u001b[49m\n\u001b[1;32m   1272\u001b[0m     \u001b[38;5;28;01melif\u001b[39;00m mode \u001b[38;5;129;01min\u001b[39;00m (\u001b[38;5;124m'\u001b[39m\u001b[38;5;124mw\u001b[39m\u001b[38;5;124m'\u001b[39m, \u001b[38;5;124m'\u001b[39m\u001b[38;5;124mx\u001b[39m\u001b[38;5;124m'\u001b[39m):\n\u001b[1;32m   1273\u001b[0m         \u001b[38;5;66;03m# set the modified flag so central directory gets written\u001b[39;00m\n\u001b[1;32m   1274\u001b[0m         \u001b[38;5;66;03m# even if no files are added to the archive\u001b[39;00m\n\u001b[1;32m   1275\u001b[0m         \u001b[38;5;28mself\u001b[39m\u001b[38;5;241m.\u001b[39m_didModify \u001b[38;5;241m=\u001b[39m \u001b[38;5;28;01mTrue\u001b[39;00m\n",
      "File \u001b[0;32m/hkfs/home/project/hk-project-p0021769/hgf_col5747/micromamba/envs/dinov2/lib/python3.10/zipfile.py:1338\u001b[0m, in \u001b[0;36mZipFile._RealGetContents\u001b[0;34m(self)\u001b[0m\n\u001b[1;32m   1336\u001b[0m     \u001b[38;5;28;01mraise\u001b[39;00m BadZipFile(\u001b[38;5;124m\"\u001b[39m\u001b[38;5;124mFile is not a zip file\u001b[39m\u001b[38;5;124m\"\u001b[39m)\n\u001b[1;32m   1337\u001b[0m \u001b[38;5;28;01mif\u001b[39;00m \u001b[38;5;129;01mnot\u001b[39;00m endrec:\n\u001b[0;32m-> 1338\u001b[0m     \u001b[38;5;28;01mraise\u001b[39;00m BadZipFile(\u001b[38;5;124m\"\u001b[39m\u001b[38;5;124mFile is not a zip file\u001b[39m\u001b[38;5;124m\"\u001b[39m)\n\u001b[1;32m   1339\u001b[0m \u001b[38;5;28;01mif\u001b[39;00m \u001b[38;5;28mself\u001b[39m\u001b[38;5;241m.\u001b[39mdebug \u001b[38;5;241m>\u001b[39m \u001b[38;5;241m1\u001b[39m:\n\u001b[1;32m   1340\u001b[0m     \u001b[38;5;28mprint\u001b[39m(endrec)\n",
      "\u001b[0;31mBadZipFile\u001b[0m: File is not a zip file"
     ]
    }
   ],
   "source": [
    "data_dir = '/home/hk-project-p0021769/hgf_col5747/data/datasciencebowl/datasciencebowl.zip'\n",
    "open_and_measure_data(data_dir_pisco, 'zip')"
   ]
  },
  {
   "cell_type": "code",
   "execution_count": 4,
   "id": "55b918e6",
   "metadata": {},
   "outputs": [],
   "source": [
    "data_dir_lmdb = \"/home/hk-project-p0021769/hgf_col5747/data/whoi_lmdb-TRAIN_imgs\"\n",
    "# open_and_measure_data(data_dir_lmdb)"
   ]
  },
  {
   "cell_type": "code",
   "execution_count": 5,
   "id": "868ad976",
   "metadata": {},
   "outputs": [],
   "source": [
    "data_dir_lmdb = \"/home/hk-project-p0021769/hgf_col5747/data/plankton/-TRAIN_imgs\"\n",
    "# open_and_measure_lmdb_file(data_dir_lmdb)"
   ]
  },
  {
   "cell_type": "code",
   "execution_count": 6,
   "id": "7200889a",
   "metadata": {},
   "outputs": [],
   "source": [
    "data_dir_lmdb = \"/home/hk-project-p0021769/hgf_col5747/data/plankton/-VAL_imgs\"\n",
    "# open_and_measure_lmdb_file(data_dir_lmdb)"
   ]
  },
  {
   "cell_type": "code",
   "execution_count": null,
   "id": "817974a7-a1fd-4934-840b-57d932904fb7",
   "metadata": {},
   "outputs": [],
   "source": [
    "def count_entries(lmdb_path):\n",
    "    env = lmdb.open(lmdb_path, readonly=True)\n",
    "    \n",
    "    with env.begin() as txn:\n",
    "        cursor = txn.cursor()\n",
    "        count = 0\n",
    "        for key, _ in cursor:\n",
    "            count += 1\n",
    "        \n",
    "    env.close()\n",
    "    return count\n",
    "\n",
    "def load_and_verify_lmdb(lmdb_imgs_path, lmdb_labels_path, debug_output_dir, max_images=10):\n",
    "    num_images = count_entries(lmdb_imgs_path)\n",
    "    num_labels = count_entries(lmdb_labels_path)\n",
    "    \n",
    "    print(f\"Number of images in LMDB: {num_images}\")\n",
    "    print(f\"Number of labels in LMDB: {num_labels}\")\n",
    "\n",
    "    env_imgs = lmdb.open(lmdb_imgs_path, readonly=True)\n",
    "    env_labels = lmdb.open(lmdb_labels_path, readonly=True)\n",
    "\n",
    "    with env_imgs.begin() as txn_imgs, env_labels.begin() as txn_labels:\n",
    "        cursor_imgs = txn_imgs.cursor()\n",
    "        cursor_labels = txn_labels.cursor()        \n",
    "        count = 0\n",
    "        for (img_key, img_value), (label_key, label_value) in zip(cursor_imgs, cursor_labels):\n",
    "            img_decoded = iio.imread(img_value)\n",
    "            \n",
    "            label_decoded = label_value.decode(\"utf-8\")\n",
    "            \n",
    "            # Save the image for verification\n",
    "            output_path = os.path.join(debug_output_dir, f\"debug_{label_decoded}_{count}.png\")\n",
    "            iio.imwrite(output_path, img_decoded)\n",
    "            \n",
    "            print(f\"Verified Image Key: {img_key.decode('utf-8')}, Label: {label_decoded}, Saved to: {output_path}\")\n",
    "            \n",
    "            count += 1\n",
    "            if count >= max_images:  # dont want to save all images\n",
    "                break\n",
    "\n",
    "    env_imgs.close()\n",
    "    env_labels.close()\n",
    "    print(f\"Verification complete. Images saved to {debug_output_dir}\")"
   ]
  }
 ],
 "metadata": {
  "kernelspec": {
   "display_name": "Python 3",
   "language": "python",
   "name": "python3"
  },
  "language_info": {
   "codemirror_mode": {
    "name": "ipython",
    "version": 3
   },
   "file_extension": ".py",
   "mimetype": "text/x-python",
   "name": "python",
   "nbconvert_exporter": "python",
   "pygments_lexer": "ipython3",
   "version": "3.10.16"
  }
 },
 "nbformat": 4,
 "nbformat_minor": 5
}
