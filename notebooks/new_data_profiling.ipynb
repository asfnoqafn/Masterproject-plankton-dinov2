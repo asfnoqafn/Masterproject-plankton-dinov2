{
 "cells": [
  {
   "cell_type": "code",
   "execution_count": null,
   "metadata": {},
   "outputs": [],
   "source": [
    "import data_profiling\n",
    "\n",
    "data_dirs_without_labels: dict = {\n",
    "    \"picso\": \"/home/hk-project-p0021769/hgf_grc7525/data/without_labels/pisco\"\n",
    "}\n",
    "\n",
    "\n",
    "data_dir_with_labels: dict = {\n",
    "    \"datasciencebowl\": \"/home/hk-project-p0021769/hgf_grc7525/data/with_labels/datasciencebowl\",\n",
    "    \"FlowCamNet\": \"/home/hk-project-p0021769/hgf_grc7525/data/with_labels/FlowCamNet\",\n",
    "    \"ISIISNet\": \"/home/hk-project-p0021769/hgf_grc7525/data/with_labels/ISIISNet\",\n",
    "    \"UVPEC\": \"/home/hk-project-p0021769/hgf_grc7525/data/with_labels/UVPEC\",\n",
    "    \"ZooCamNet\": \"/home/hk-project-p0021769/hgf_grc7525/data/with_labels/ZooCamNet\",\n",
    "    \"ZooScanNet\": \"/home/hk-project-p0021769/hgf_grc7525/data/with_labels/ZooScanNet\",\n",
    "}\n",
    "\n",
    "for data, dir in data_dirs_without_labels:\n",
    "    data_profiling.profile_data('data/seaone_raw')\n",
    "\n",
    "for data, dir in data_dir_with_labels:\n",
    "\tdata_profiling.profile_data(dir)"
   ]
  },
  {
   "cell_type": "code",
   "execution_count": 5,
   "metadata": {},
   "outputs": [
    {
     "name": "stdout",
     "output_type": "stream",
     "text": [
      "\n"
     ]
    }
   ],
   "source": [
    "import data_profiling\n",
    "\n",
    "data = data_profiling.open_and_measure_data(\n",
    "    \"/home/hk-project-p0021769/hgf_col5747/data/plankton/-TRAIN_imgs\", \"lmdb\"\n",
    ")\n",
    "\n",
    "print()"
   ]
  }
 ],
 "metadata": {
  "kernelspec": {
   "display_name": "Python 3",
   "language": "python",
   "name": "python3"
  },
  "language_info": {
   "codemirror_mode": {
    "name": "ipython",
    "version": 3
   },
   "file_extension": ".py",
   "mimetype": "text/x-python",
   "name": "python",
   "nbconvert_exporter": "python",
   "pygments_lexer": "ipython3",
   "version": "3.10.16"
  }
 },
 "nbformat": 4,
 "nbformat_minor": 2
}
