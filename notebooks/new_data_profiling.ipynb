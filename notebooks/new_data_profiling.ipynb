{
 "cells": [
  {
   "cell_type": "code",
   "execution_count": null,
   "metadata": {},
   "outputs": [],
   "source": [
    "import data_profiling\n",
    "\n",
    "data_dirs_without_labels: dict = {\n",
    "    \"picso\": \"/home/hk-project-p0021769/hgf_grc7525/data/without_labels/pisco\"\n",
    "}\n",
    "\n",
    "\n",
    "data_dir_with_labels: dict = {\n",
    "    \"datasciencebowl\": \"/home/hk-project-p0021769/hgf_grc7525/data/with_labels/datasciencebowl\",\n",
    "    \"FlowCamNet\": \"/home/hk-project-p0021769/hgf_grc7525/data/with_labels/FlowCamNet\",\n",
    "    \"ISIISNet\": \"/home/hk-project-p0021769/hgf_grc7525/data/with_labels/ISIISNet\",\n",
    "    \"UVPEC\": \"/home/hk-project-p0021769/hgf_grc7525/data/with_labels/UVPEC\",\n",
    "    \"ZooCamNet\": \"/home/hk-project-p0021769/hgf_grc7525/data/with_labels/ZooCamNet\",\n",
    "    \"ZooScanNet\": \"/home/hk-project-p0021769/hgf_grc7525/data/with_labels/ZooScanNet\",\n",
    "}\n",
    "\n",
    "for data, dir in data_dirs_without_labels:\n",
    "    data_profiling.profile_data('data/seaone_raw')\n",
    "\n",
    "for data, dir in data_dir_with_labels:\n",
    "\tdata_profiling.profile_data(dir)"
   ]
  },
  {
   "cell_type": "code",
   "execution_count": 3,
   "metadata": {},
   "outputs": [
    {
     "ename": "ReadonlyError",
     "evalue": "/home/hk-project-p0021769/hgf_grc7525/workspace/hkfswork/hgf_grc7525-nick/data/lmdb_with_labels/CPICS: Permission denied",
     "output_type": "error",
     "traceback": [
      "\u001b[0;31m---------------------------------------------------------------------------\u001b[0m",
      "\u001b[0;31mReadonlyError\u001b[0m                             Traceback (most recent call last)",
      "Cell \u001b[0;32mIn[3], line 2\u001b[0m\n\u001b[1;32m      1\u001b[0m \u001b[38;5;28;01mimport\u001b[39;00m \u001b[38;5;21;01mlmdb\u001b[39;00m\n\u001b[0;32m----> 2\u001b[0m env \u001b[38;5;241m=\u001b[39m \u001b[43mlmdb\u001b[49m\u001b[38;5;241;43m.\u001b[39;49m\u001b[43mopen\u001b[49m\u001b[43m(\u001b[49m\u001b[38;5;124;43m\"\u001b[39;49m\u001b[38;5;124;43m/home/hk-project-p0021769/hgf_grc7525/workspace/hkfswork/hgf_grc7525-nick/data/lmdb_with_labels/CPICS\u001b[39;49m\u001b[38;5;124;43m\"\u001b[39;49m\u001b[43m)\u001b[49m\n\u001b[1;32m      3\u001b[0m env\u001b[38;5;241m.\u001b[39mstat()\n\u001b[1;32m      4\u001b[0m env\u001b[38;5;241m.\u001b[39mclose()\n",
      "\u001b[0;31mReadonlyError\u001b[0m: /home/hk-project-p0021769/hgf_grc7525/workspace/hkfswork/hgf_grc7525-nick/data/lmdb_with_labels/CPICS: Permission denied"
     ]
    }
   ],
   "source": [
    "import lmdb\n",
    "env = lmdb.open(\"/home/hk-project-p0021769/hgf_grc7525/workspace/hkfswork/hgf_grc7525-nick/data/lmdb_with_labels/CPICS\")\n",
    "env.stat()\n",
    "env.close()"
   ]
  }
 ],
 "metadata": {
  "kernelspec": {
   "display_name": "Python 3",
   "language": "python",
   "name": "python3"
  },
  "language_info": {
   "codemirror_mode": {
    "name": "ipython",
    "version": 3
   },
   "file_extension": ".py",
   "mimetype": "text/x-python",
   "name": "python",
   "nbconvert_exporter": "python",
   "pygments_lexer": "ipython3",
   "version": "3.10.14"
  }
 },
 "nbformat": 4,
 "nbformat_minor": 2
}
